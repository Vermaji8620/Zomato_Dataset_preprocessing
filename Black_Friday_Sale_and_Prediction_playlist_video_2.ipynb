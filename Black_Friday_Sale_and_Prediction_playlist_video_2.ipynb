{
 "cells": [
  {
   "cell_type": "markdown",
   "id": "37c96257-f784-4143-a263-1bbd8b8dba3c",
   "metadata": {},
   "source": [
    "### BLACK FRIDAY DATASET EDA AND FEATURE ENGINEERING "
   ]
  },
  {
   "cell_type": "markdown",
   "id": "74796819-8ed1-4162-a2d5-d68de145089a",
   "metadata": {},
   "source": [
    "# Problem Statement\n",
    "A retail company “ABC Private Limited” wants to understand the customer purchase behaviour (specifically, purchase amount) against various products of different categories. They have shared purchase summary of various customers for selected high volume products from last month.\n",
    "\n",
    "The dataset also contains:\n",
    "\n",
    "Customer demographics: age, gender, marital status, city_type, stay_in_current_city\n",
    "\n",
    "Product details: product_id, product category\n",
    "\n",
    "Total purchase_amount from last month.\n",
    "\n",
    "Now, they want to build a model to predict the purchase amount of a customer against products. This will help them create personalized offers for customers across different product categories."
   ]
  },
  {
   "cell_type": "markdown",
   "id": "be3c2799-dfb8-48c5-acb2-eaecf4afda1e",
   "metadata": {},
   "source": [
    "df_train = pd.read_csv('train_black_friday.csv')"
   ]
  },
  {
   "cell_type": "code",
   "execution_count": 2,
   "id": "404e347c-4de0-4c0d-a290-07dd3b345647",
   "metadata": {},
   "outputs": [
    {
     "ename": "NameError",
     "evalue": "name 'df_train' is not defined",
     "output_type": "error",
     "traceback": [
      "\u001b[31m---------------------------------------------------------------------------\u001b[39m",
      "\u001b[31mNameError\u001b[39m                                 Traceback (most recent call last)",
      "\u001b[36mCell\u001b[39m\u001b[36m \u001b[39m\u001b[32mIn[2]\u001b[39m\u001b[32m, line 1\u001b[39m\n\u001b[32m----> \u001b[39m\u001b[32m1\u001b[39m \u001b[43mdf_train\u001b[49m.head()\n",
      "\u001b[31mNameError\u001b[39m: name 'df_train' is not defined"
     ]
    }
   ],
   "source": [
    "df_train.head()"
   ]
  },
  {
   "cell_type": "code",
   "execution_count": null,
   "id": "d73e4015-849a-41f2-80fa-8d691efad1a4",
   "metadata": {},
   "outputs": [],
   "source": [
    "df_test = pd.read_csv('test_black_friday.csv')"
   ]
  },
  {
   "cell_type": "code",
   "execution_count": null,
   "id": "da6a6c55-b532-4b2d-8527-83594c61634c",
   "metadata": {},
   "outputs": [],
   "source": [
    "df_test.head()"
   ]
  },
  {
   "cell_type": "code",
   "execution_count": null,
   "id": "63ec4105-0063-444c-89ae-460ec801543f",
   "metadata": {},
   "outputs": [],
   "source": [
    "df= pd.concat([df_train, df_test], ignore_index = True)"
   ]
  },
  {
   "cell_type": "code",
   "execution_count": null,
   "id": "e4ff0d7a-1602-47a7-ab77-220695cc3d2a",
   "metadata": {},
   "outputs": [],
   "source": [
    "df.head()"
   ]
  },
  {
   "cell_type": "code",
   "execution_count": null,
   "id": "3c6c4e46-3c2a-4389-8156-be4ba51f4aa9",
   "metadata": {},
   "outputs": [],
   "source": [
    "df.info()"
   ]
  },
  {
   "cell_type": "code",
   "execution_count": null,
   "id": "72afdc19-c416-4db6-aaa4-ba1e8c364520",
   "metadata": {},
   "outputs": [],
   "source": [
    "df.describe()"
   ]
  },
  {
   "cell_type": "code",
   "execution_count": null,
   "id": "8a4e0456-ef52-4a5c-8b7f-ca601e0db5d8",
   "metadata": {},
   "outputs": [],
   "source": [
    "df.drop(['User_ID'], axis=1, inplace=True)"
   ]
  },
  {
   "cell_type": "code",
   "execution_count": null,
   "id": "549b827a-ce2a-4aa2-9c6a-6b084975a972",
   "metadata": {},
   "outputs": [],
   "source": [
    "df.head()"
   ]
  },
  {
   "cell_type": "code",
   "execution_count": null,
   "id": "0c29818c-ff45-4681-ada4-8dc04dde0ee3",
   "metadata": {},
   "outputs": [],
   "source": [
    "df['Gender']"
   ]
  },
  {
   "cell_type": "code",
   "execution_count": null,
   "id": "a81e241d-dbc4-44b6-a9d4-88e0ac7f3c84",
   "metadata": {},
   "outputs": [],
   "source": [
    "# handling categorical feature, Gender\n",
    "df['Gender'] = df['Gender'].map({'M': 1, 'F': 0})"
   ]
  },
  {
   "cell_type": "code",
   "execution_count": null,
   "id": "d2060377-819c-4fcd-9bc3-a2c921f41040",
   "metadata": {},
   "outputs": [],
   "source": [
    "df['Gender']"
   ]
  },
  {
   "cell_type": "code",
   "execution_count": null,
   "id": "dee392b7-31fd-4878-91a3-d4d65bd278f5",
   "metadata": {},
   "outputs": [],
   "source": [
    "df.head()"
   ]
  },
  {
   "cell_type": "code",
   "execution_count": null,
   "id": "b23b24a2-d973-4df9-a0ef-cf661da14bad",
   "metadata": {},
   "outputs": [],
   "source": [
    "df['Age'].unique()"
   ]
  },
  {
   "cell_type": "code",
   "execution_count": null,
   "id": "26d7b1d6-596a-4bc0-9a24-c0f1fe40f428",
   "metadata": {},
   "outputs": [],
   "source": [
    "df['Age'] = df['Age'].map({'0-17': 1, '18-25': 2, '26-35': 3, '36-45': 4, '46-50': 5, '51-55':6, '55+': 7}) "
   ]
  },
  {
   "cell_type": "code",
   "execution_count": null,
   "id": "36b4623c-3a81-42e8-828c-cf29717080d2",
   "metadata": {},
   "outputs": [],
   "source": [
    "df.head()"
   ]
  },
  {
   "cell_type": "code",
   "execution_count": null,
   "id": "43119565-e1e6-47db-99ac-81fcec02d799",
   "metadata": {},
   "outputs": [],
   "source": [
    "df.City_Category.unique()"
   ]
  },
  {
   "cell_type": "code",
   "execution_count": null,
   "id": "91275bc0-0764-4044-8396-631325769f8b",
   "metadata": {},
   "outputs": [],
   "source": [
    "df_city = pd.get_dummies(df['City_Category'], drop_first = True, dtype = int)"
   ]
  },
  {
   "cell_type": "code",
   "execution_count": null,
   "id": "4fb204aa-a18d-455f-aeec-59ef37070778",
   "metadata": {},
   "outputs": [],
   "source": [
    "df_city.head()"
   ]
  },
  {
   "cell_type": "code",
   "execution_count": null,
   "id": "dcba630f-dfe0-4e36-802c-376dfe0ae2e5",
   "metadata": {},
   "outputs": [],
   "source": [
    "df.head()"
   ]
  },
  {
   "cell_type": "code",
   "execution_count": null,
   "id": "ae63ad74-ebf9-49f0-abc3-2651063157f5",
   "metadata": {},
   "outputs": [],
   "source": [
    "df = pd.concat([ df.reset_index(drop=True) , df_city.reset_index(drop=True) ], axis=1) "
   ]
  },
  {
   "cell_type": "code",
   "execution_count": null,
   "id": "9fda3b1d-c356-4a2b-9353-8ca2c0ce4c83",
   "metadata": {},
   "outputs": [],
   "source": [
    "df.head()"
   ]
  },
  {
   "cell_type": "code",
   "execution_count": null,
   "id": "3625f281-647b-469c-a7f5-b24192e232dc",
   "metadata": {},
   "outputs": [],
   "source": [
    "df.drop('City_Category', axis=1, inplace=True)"
   ]
  },
  {
   "cell_type": "code",
   "execution_count": null,
   "id": "b2838a84-e30d-4d4f-97e9-43d9f7bd203d",
   "metadata": {},
   "outputs": [],
   "source": [
    "df.head()"
   ]
  },
  {
   "cell_type": "code",
   "execution_count": null,
   "id": "7101a341-afe8-4250-b046-d7d4a80a0dd7",
   "metadata": {},
   "outputs": [],
   "source": [
    "# NOW LET'S CHECK THE MISSING VALUES - "
   ]
  },
  {
   "cell_type": "code",
   "execution_count": null,
   "id": "4450c949-3c1e-41e7-a3e6-8658cd53bbac",
   "metadata": {},
   "outputs": [],
   "source": [
    "df.isnull().sum()"
   ]
  },
  {
   "cell_type": "code",
   "execution_count": null,
   "id": "c8419659-ea23-4abf-9059-2ccf723386cd",
   "metadata": {},
   "outputs": [],
   "source": [
    "# Now we see that there are null ( NaN)  values in product_category_2. So, we need to fill all those null values with some value. Now, \n",
    "# just check if the other datas are discrete or continuous. If discrete, then fill the missing values with 'mode' of all the entire column \n",
    "# attribute. So, first find out the mode and then, fill the values at NaN position "
   ]
  },
  {
   "cell_type": "code",
   "execution_count": null,
   "id": "9581df71-88cd-411b-a4c0-c363ef9ca489",
   "metadata": {},
   "outputs": [],
   "source": [
    "df['Product_Category_2'].mode()[0]"
   ]
  },
  {
   "cell_type": "code",
   "execution_count": null,
   "id": "7b381cd1-c886-495d-ae04-c1f4f101c783",
   "metadata": {},
   "outputs": [],
   "source": [
    "df['Product_Category_2'] = df['Product_Category_2'].fillna(int(df['Product_Category_2'].mode()[0]))"
   ]
  },
  {
   "cell_type": "code",
   "execution_count": 3,
   "id": "cf47bbec-9961-447e-a6fe-091f487e9f49",
   "metadata": {},
   "outputs": [
    {
     "ename": "NameError",
     "evalue": "name 'df' is not defined",
     "output_type": "error",
     "traceback": [
      "\u001b[31m---------------------------------------------------------------------------\u001b[39m",
      "\u001b[31mNameError\u001b[39m                                 Traceback (most recent call last)",
      "\u001b[36mCell\u001b[39m\u001b[36m \u001b[39m\u001b[32mIn[3]\u001b[39m\u001b[32m, line 1\u001b[39m\n\u001b[32m----> \u001b[39m\u001b[32m1\u001b[39m \u001b[43mdf\u001b[49m.isnull().sum()\n",
      "\u001b[31mNameError\u001b[39m: name 'df' is not defined"
     ]
    }
   ],
   "source": [
    "df.isnull().sum()"
   ]
  },
  {
   "cell_type": "code",
   "execution_count": null,
   "id": "fedc9b39-c1a1-4b8e-b751-f912a0ad0116",
   "metadata": {},
   "outputs": [],
   "source": [
    "# PRODUCT CATEGORY 3 replace the missing values  - "
   ]
  },
  {
   "cell_type": "code",
   "execution_count": null,
   "id": "6f5fa3ad-97db-4ab7-8cc9-54f54b5ae934",
   "metadata": {},
   "outputs": [],
   "source": [
    "df['Product_Category_3'].isnull().sum()"
   ]
  },
  {
   "cell_type": "code",
   "execution_count": null,
   "id": "6a7d62aa-0c9c-4f96-bf4c-e3cc9369e6cd",
   "metadata": {},
   "outputs": [],
   "source": [
    "df['Product_Category_3'].unique()"
   ]
  },
  {
   "cell_type": "code",
   "execution_count": null,
   "id": "1e3afa6f-01c4-4b31-add2-e888a0e38565",
   "metadata": {},
   "outputs": [],
   "source": [
    "df['Product_Category_3'].value_counts()"
   ]
  },
  {
   "cell_type": "code",
   "execution_count": null,
   "id": "cad4cfa1-010d-4ec8-ae4c-186981ab0602",
   "metadata": {},
   "outputs": [],
   "source": [
    "df['Product_Category_3'] = df['Product_Category_3'].fillna(int(df['Product_Category_3'].mode()[0])) "
   ]
  },
  {
   "cell_type": "code",
   "execution_count": null,
   "id": "7110f1b6-8d93-44bc-bca9-e682dcca15f2",
   "metadata": {},
   "outputs": [],
   "source": [
    "df['Product_Category_3'].isnull().sum()"
   ]
  },
  {
   "cell_type": "code",
   "execution_count": null,
   "id": "30cd77c7-b453-4610-ad7d-4fe35cd41b44",
   "metadata": {},
   "outputs": [],
   "source": [
    "df['Product_Category_3']"
   ]
  },
  {
   "cell_type": "code",
   "execution_count": null,
   "id": "891dc7e9-5585-474a-bfa6-4f6e77a8f7b1",
   "metadata": {},
   "outputs": [],
   "source": [
    "df.head()"
   ]
  },
  {
   "cell_type": "code",
   "execution_count": null,
   "id": "08c5a60a-c880-4bb6-a181-3957366d0b0e",
   "metadata": {},
   "outputs": [],
   "source": [
    "df['Stay_In_Current_City_Years'] = df['Stay_In_Current_City_Years'].replace({'+' : ''})"
   ]
  },
  {
   "cell_type": "code",
   "execution_count": null,
   "id": "80b228e7-cea5-445e-8465-f93b5a7e9919",
   "metadata": {},
   "outputs": [],
   "source": [
    "df.head()"
   ]
  },
  {
   "cell_type": "code",
   "execution_count": null,
   "id": "771b03db-c484-43b7-88fe-f0a646007c77",
   "metadata": {},
   "outputs": [],
   "source": [
    "df['Purchase'].isnull().sum()"
   ]
  },
  {
   "cell_type": "code",
   "execution_count": null,
   "id": "4ff26efe-7c65-497f-a2de-07ff0df1efc8",
   "metadata": {},
   "outputs": [],
   "source": [
    "df.isnull().sum()"
   ]
  },
  {
   "cell_type": "code",
   "execution_count": null,
   "id": "687d3edd-ef33-4145-831e-bec3885a0ce5",
   "metadata": {},
   "outputs": [],
   "source": [
    "df.info()"
   ]
  },
  {
   "cell_type": "code",
   "execution_count": null,
   "id": "d35851d1-23a5-49d5-954a-cd235397e7f8",
   "metadata": {},
   "outputs": [],
   "source": [
    "# CONVERT OBJECT DATATYPES INTO INTEGERS"
   ]
  },
  {
   "cell_type": "code",
   "execution_count": null,
   "id": "2d8aee13-72e7-4fea-97a4-b0537e85966d",
   "metadata": {},
   "outputs": [],
   "source": [
    "df['Stay_In_Current_City_Years'] = df['Stay_In_Current_City_Years'].astype(int)"
   ]
  },
  {
   "cell_type": "code",
   "execution_count": null,
   "id": "e897bc50-f39c-4642-b67f-5e063c6f2f30",
   "metadata": {},
   "outputs": [],
   "source": [
    "df.info()"
   ]
  },
  {
   "cell_type": "code",
   "execution_count": null,
   "id": "b740a0dc-c1bd-453c-9098-72ccff347729",
   "metadata": {},
   "outputs": [],
   "source": [
    "# VISUALISATION \n",
    "sns.barplot(x= 'Age', y='Purchase', data = df, hue='Gender')"
   ]
  },
  {
   "cell_type": "markdown",
   "id": "5ca54636-4958-47da-8da6-882997faf989",
   "metadata": {},
   "source": [
    "# PURCHASING OF MEN IS HIHGER THAN WOMEN"
   ]
  },
  {
   "cell_type": "code",
   "execution_count": null,
   "id": "eb62e7df-7e28-4374-9180-ca8778567bb7",
   "metadata": {},
   "outputs": [],
   "source": [
    "# VISUALISATION OF PURCHASE WITH OCCUPATION\n",
    "df['Purchase'].isnull().sum()"
   ]
  },
  {
   "cell_type": "code",
   "execution_count": null,
   "id": "ddab3a96-f218-493a-8f9c-05b60884974b",
   "metadata": {},
   "outputs": [],
   "source": [
    "sns.barplot(x='Occupation', y='Purchase', data=df) "
   ]
  },
  {
   "cell_type": "code",
   "execution_count": null,
   "id": "3418ba16-d23d-4dd2-ab92-bb5306048157",
   "metadata": {},
   "outputs": [],
   "source": [
    "df.info()"
   ]
  },
  {
   "cell_type": "code",
   "execution_count": null,
   "id": "986a1542-5aed-4adb-9c6f-34087a5d8b1a",
   "metadata": {},
   "outputs": [],
   "source": [
    "df.info()"
   ]
  },
  {
   "cell_type": "code",
   "execution_count": null,
   "id": "4a407122-2ca4-4ce7-9502-9ca72a6a51ed",
   "metadata": {},
   "outputs": [],
   "source": [
    "df.isnull().sum()"
   ]
  },
  {
   "cell_type": "code",
   "execution_count": null,
   "id": "9742e247-8160-4c75-9c88-70195bc53018",
   "metadata": {},
   "outputs": [],
   "source": [
    "sns.barplot(x='Product_Category_1', y='Purchase', hue='Gender', data = df) "
   ]
  },
  {
   "cell_type": "code",
   "execution_count": null,
   "id": "17375155-c433-4e6b-8039-cb07f301995c",
   "metadata": {},
   "outputs": [],
   "source": [
    "sns.barplot(x='Product_Category_2', y='Purchase', hue='Gender', data = df) "
   ]
  },
  {
   "cell_type": "code",
   "execution_count": null,
   "id": "0ece900a-f7f6-41e5-85f3-27e0ab30e9cf",
   "metadata": {},
   "outputs": [],
   "source": [
    "df.head()"
   ]
  },
  {
   "cell_type": "markdown",
   "id": "a35eb0d6-e003-4a45-85fb-dc9e87292d36",
   "metadata": {},
   "source": [
    "# TRAIN-TEST SPLITTING "
   ]
  },
  {
   "cell_type": "code",
   "execution_count": null,
   "id": "0aa333da-770a-458e-9800-9039803bb987",
   "metadata": {},
   "outputs": [],
   "source": [
    "df_test = df[df['Purchase'].isnull()]"
   ]
  },
  {
   "cell_type": "code",
   "execution_count": null,
   "id": "de31dac9-1739-40a6-9173-1b6b967dec16",
   "metadata": {},
   "outputs": [],
   "source": [
    "df_train = df[~df['Purchase'].isnull()]"
   ]
  },
  {
   "cell_type": "code",
   "execution_count": null,
   "id": "02ccbfb0-3a1e-4210-92b6-eee9d6b1eb81",
   "metadata": {},
   "outputs": [],
   "source": [
    "X = df_train.drop('Purchase', axis= 1) "
   ]
  },
  {
   "cell_type": "code",
   "execution_count": null,
   "id": "d574129d-935a-4d1f-b6b2-776d17d4187a",
   "metadata": {},
   "outputs": [],
   "source": [
    "y = df_train['Purchase']"
   ]
  },
  {
   "cell_type": "code",
   "execution_count": null,
   "id": "8c67e8c2-d5be-43da-9323-2cff387444c8",
   "metadata": {},
   "outputs": [],
   "source": [
    "from sklearn.model_selection import train_test_split\n",
    "X_train, X_test, y_train, y_test = train_test_split(\n",
    "    X, y,\n",
    "    test_size=0.2,       # 20% for testing\n",
    "    random_state=42      # For reproducibility\n",
    ")"
   ]
  },
  {
   "cell_type": "markdown",
   "id": "ef44627d-e5a1-41d8-ac0e-3dc6ffb68fa8",
   "metadata": {},
   "source": [
    "# FEATURE SCALING"
   ]
  },
  {
   "cell_type": "code",
   "execution_count": null,
   "id": "da964f52-50b7-4864-8a04-57818a1ded59",
   "metadata": {},
   "outputs": [],
   "source": [
    "from sklearn.preprocessing import StandardScaler\n",
    "\n",
    "scaler = StandardScaler()\n",
    "\n",
    "# Fit only on training data\n",
    "X_train_scaled = scaler.fit_transform(X_train)\n",
    "X_test_scaled = scaler.transform(X_test)"
   ]
  },
  {
   "cell_type": "code",
   "execution_count": null,
   "id": "3838d674-57e1-42e7-99e8-43dcc1ae29b6",
   "metadata": {},
   "outputs": [],
   "source": [
    "X_test_scaled"
   ]
  },
  {
   "cell_type": "markdown",
   "id": "68bb8900-7f85-4f61-9a37-3196854d598e",
   "metadata": {},
   "source": [
    "# TRAIN THE MODEL "
   ]
  },
  {
   "cell_type": "code",
   "execution_count": null,
   "id": "8f37e39d-6e31-438e-af43-145104e9aaa1",
   "metadata": {},
   "outputs": [],
   "source": [
    "from sklearn.linear_model import LinearRegression\n",
    "\n",
    "model = LinearRegression()\n",
    "model.fit(X_train_scaled, y_train)"
   ]
  },
  {
   "cell_type": "markdown",
   "id": "955fbe64-a864-4d7f-8658-4c5d0c3af074",
   "metadata": {},
   "source": [
    "# PREDICTION"
   ]
  },
  {
   "cell_type": "code",
   "execution_count": 4,
   "id": "57ea31a4-e279-40cc-828c-5930ba7c1989",
   "metadata": {},
   "outputs": [
    {
     "ename": "NameError",
     "evalue": "name 'model' is not defined",
     "output_type": "error",
     "traceback": [
      "\u001b[31m---------------------------------------------------------------------------\u001b[39m",
      "\u001b[31mNameError\u001b[39m                                 Traceback (most recent call last)",
      "\u001b[36mCell\u001b[39m\u001b[36m \u001b[39m\u001b[32mIn[4]\u001b[39m\u001b[32m, line 1\u001b[39m\n\u001b[32m----> \u001b[39m\u001b[32m1\u001b[39m y_pred = \u001b[43mmodel\u001b[49m.predict(X_test_scaled)\n",
      "\u001b[31mNameError\u001b[39m: name 'model' is not defined"
     ]
    }
   ],
   "source": [
    "y_pred = model.predict(X_test_scaled)"
   ]
  },
  {
   "cell_type": "code",
   "execution_count": null,
   "id": "cee539cb-9095-43fb-b846-51fcfbdf125c",
   "metadata": {},
   "outputs": [],
   "source": []
  }
 ],
 "metadata": {
  "kernelspec": {
   "display_name": "Python 3 (ipykernel)",
   "language": "python",
   "name": "python3"
  },
  "language_info": {
   "codemirror_mode": {
    "name": "ipython",
    "version": 3
   },
   "file_extension": ".py",
   "mimetype": "text/x-python",
   "name": "python",
   "nbconvert_exporter": "python",
   "pygments_lexer": "ipython3",
   "version": "3.13.2"
  }
 },
 "nbformat": 4,
 "nbformat_minor": 5
}
